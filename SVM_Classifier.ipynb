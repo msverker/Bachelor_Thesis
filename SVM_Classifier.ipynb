{
 "cells": [
  {
   "cell_type": "code",
   "execution_count": 1,
   "metadata": {},
   "outputs": [
    {
     "name": "stdout",
     "output_type": "stream",
     "text": [
      "Not enough data in class 4, only 53 available.\n",
      "453\n"
     ]
    }
   ],
   "source": [
    "import torch\n",
    "from torch.utils.data import Dataset, DataLoader, Subset\n",
    "from torchvision import transforms\n",
    "from PIL import Image\n",
    "from pathlib import Path\n",
    "import torchvision\n",
    "import seaborn as sns\n",
    "from random import sample\n",
    "import numpy as np\n",
    "from sklearn.svm import SVC\n",
    "from sklearn.model_selection import train_test_split, RandomizedSearchCV, learning_curve\n",
    "from sklearn.metrics import accuracy_score, classification_report, confusion_matrix, ConfusionMatrixDisplay\n",
    "import matplotlib.pyplot as plt\n",
    "\n",
    "class SpectrogramDataset(Dataset):\n",
    "    def __init__(self, spectro_folder):\n",
    "        self.spectrogram_folders = list(spectro_folder.glob('spectrogram_*'))\n",
    "        self.transform = transforms.Compose([\n",
    "            transforms.Resize((227, 227)),\n",
    "            transforms.ToTensor(),\n",
    "            # transforms.Lambda(lambda x: torch.flatten(x)),\n",
    "        ])\n",
    "\n",
    "    def __len__(self):\n",
    "        return len(self.spectrogram_folders)\n",
    "\n",
    "    def __getitem__(self, idx):\n",
    "        folder_path = self.spectrogram_folders[idx]\n",
    "\n",
    "        # Load the spectrogram image\n",
    "        img = Image.open(folder_path / 'spectrogram.png')#.convert('L')\n",
    "        img = self.transform(img)\n",
    "\n",
    "        # Load the label\n",
    "        label_path = folder_path / 'label.txt'\n",
    "        with open(label_path, 'r') as label_file:\n",
    "            label = int(label_file.read().strip())\n",
    "\n",
    "        return img, label\n",
    "\n",
    "# Path to the folder containing your spectrograms\n",
    "spectro_folder = Path('./spectrograms')\n",
    "\n",
    "# Create a custom dataset\n",
    "Data = SpectrogramDataset(spectro_folder)\n",
    "# dataloader = DataLoader(Data, batch_size = len(Data))\n",
    "unique_labels = set()\n",
    "\n",
    "for _, label in Data:\n",
    "    unique_labels.add(label)\n",
    "\n",
    "class_indices = {label: [] for label in unique_labels}\n",
    "\n",
    "for idx in range(len(Data)):\n",
    "    _, label = Data[idx]\n",
    "    class_indices[label].append(idx)\n",
    "\n",
    "selected_indices = []\n",
    "for label, indices in class_indices.items():\n",
    "    if len(indices) >= 100:\n",
    "        selected_indices.extend(sample(indices, 100))\n",
    "    else:\n",
    "        selected_indices.extend(indices)\n",
    "        print(f\"Not enough data in class {label}, only {len(indices)} available.\")\n",
    "\n",
    "subset_dataset = Subset(Data, selected_indices)\n",
    "\n",
    "subset_dataloader = DataLoader(subset_dataset, batch_size=len(subset_dataset), shuffle=True)  # Adjust batch size as needed\n",
    "# dataloader = DataLoader(Data, batch_size = len(Data))\n",
    "\n",
    "print(len(subset_dataset))"
   ]
  },
  {
   "cell_type": "code",
   "execution_count": 3,
   "metadata": {},
   "outputs": [],
   "source": [
    "# for batch_idx, (images, labels) in enumerate(dataloader):\n",
    "# #     print(f\"Training SVM for batch {batch_idx + 1}/{len(subs)}...\")\n",
    "#     images = np.asarray(images)\n",
    "#     labels = np.asarray(labels)\n",
    "\n",
    "#     x_train, x_test, y_train, y_test = train_test_split(images, labels, test_size=0.2, stratify=labels)\n",
    "    \n",
    "#     classifier = SVC(probability=True, decision_function_shape='ovr')\n",
    "\n",
    "#     param_grid={'C':[0.01, 0.1, 1, 10, 100],\n",
    "#             'gamma':[0.01, 0.1, 1, 10, 100],\n",
    "#             'degree': [2, 3],\n",
    "#             'kernel':['poly', 'rbf', 'linear']}\n",
    "\n",
    "#     model = GridSearchCV(classifier, param_grid)\n",
    "\n",
    "#     model.fit(x_train, y_train)\n",
    "\n",
    "#     best_model = model.best_estimator_\n",
    "#     print(\"Best model parameters:\")\n",
    "#     print(best_model.get_params())\n",
    "\n",
    "\n",
    "#     # Evaluate the final model\n",
    "#     y_pred = best_model.predict(x_test)\n",
    "#     print(f\"The model is {accuracy_score(y_pred, y_test) * 100}% accurate\")"
   ]
  },
  {
   "cell_type": "code",
   "execution_count": 3,
   "metadata": {},
   "outputs": [
    {
     "name": "stdout",
     "output_type": "stream",
     "text": [
      "torch.Size([362, 4, 227, 227])\n",
      "Stored 'x_test' (Tensor)\n",
      "Stored 'y_test' (Tensor)\n"
     ]
    }
   ],
   "source": [
    "for batch_idx, (images, labels) in enumerate(subset_dataloader):\n",
    "    x_train, x_test, y_train, y_test = train_test_split(images, labels, test_size=0.2, stratify=labels)\n",
    "    print(x_train.shape)\n",
    "    %store x_test\n",
    "    %store y_test"
   ]
  },
  {
   "cell_type": "code",
   "execution_count": 4,
   "metadata": {},
   "outputs": [
    {
     "name": "stdout",
     "output_type": "stream",
     "text": [
      "Fitting 5 folds for each of 5 candidates, totalling 25 fits\n",
      "[CV] END ...........C=1, degree=3, gamma=0.01, kernel=linear; total time= 1.0min\n",
      "[CV] END ...........C=1, degree=3, gamma=0.01, kernel=linear; total time= 1.0min\n",
      "[CV] END ...........C=1, degree=3, gamma=0.01, kernel=linear; total time= 1.0min\n",
      "[CV] END ...........C=1, degree=3, gamma=0.01, kernel=linear; total time= 1.0min\n",
      "[CV] END ...........C=1, degree=3, gamma=0.01, kernel=linear; total time=  59.6s\n",
      "[CV] END ...........C=0.01, degree=4, gamma=0.1, kernel=poly; total time= 1.0min\n",
      "[CV] END ...........C=0.01, degree=4, gamma=0.1, kernel=poly; total time= 1.0min\n",
      "[CV] END ...........C=0.01, degree=4, gamma=0.1, kernel=poly; total time= 1.0min\n",
      "[CV] END ...........C=0.01, degree=4, gamma=0.1, kernel=poly; total time= 1.0min\n",
      "[CV] END ...........C=0.01, degree=4, gamma=0.1, kernel=poly; total time= 1.0min\n",
      "[CV] END ..........C=0.01, degree=3, gamma=0.01, kernel=poly; total time= 1.0min\n"
     ]
    }
   ],
   "source": [
    "x_train = np.asarray(x_train)\n",
    "y_train = np.asarray(y_train)\n",
    "x_test = np.asarray(x_test)\n",
    "y_test = np.asarray(y_test)\n",
    "x_train = x_train.reshape(x_train.shape[0], -1)\n",
    "x_test = x_test.reshape(x_test.shape[0], -1)\n",
    "\n",
    "model = SVC(probability=True, decision_function_shape='ovr')\n",
    "\n",
    "param_distributions = {'C': [0.01, 0.1, 1, 10, 100],\n",
    "                        'gamma': [0.01, 0.1, 1, 10, 100],\n",
    "                        'degree': [2, 3, 4, 5, 6],\n",
    "                        'kernel': ['poly', 'rbf', 'linear']}\n",
    "\n",
    "rnd_search = RandomizedSearchCV(model, param_distributions, n_iter=5, cv=5, verbose=2, random_state=42)\n",
    "rnd_search.fit(x_train, y_train)\n",
    "\n",
    "best_model = rnd_search.best_estimator_\n",
    "print(\"Best model parameters:\")\n",
    "print(best_model.get_params())\n",
    "\n",
    "# Evaluate the final model\n",
    "y_pred = best_model.predict(x_test)\n",
    "print(f\"The model is {accuracy_score(y_test, y_pred) * 100}% accurate\")\n",
    "\n",
    "# Plot learning curve\n",
    "train_sizes, train_scores, test_scores = learning_curve(best_model, images, labels, cv=5,\n",
    "                                                        train_sizes=np.linspace(0.1, 1.0, 10),\n",
    "                                                        scoring='accuracy')\n",
    "\n",
    "train_scores_mean = np.mean(train_scores, axis=1)\n",
    "test_scores_mean = np.mean(test_scores, axis=1)\n",
    "\n",
    "plt.figure()\n",
    "plt.plot(train_sizes, train_scores_mean, 'o-', color=\"r\", label=\"Training score\")\n",
    "plt.plot(train_sizes, test_scores_mean, 'o-', color=\"g\", label=\"Cross-validation score\")\n",
    "plt.title(\"Learning Curve for SVM\")\n",
    "plt.xlabel(\"Training examples\")\n",
    "plt.ylabel(\"Score\")\n",
    "plt.legend(loc=\"best\")\n",
    "plt.grid()\n",
    "plt.show()"
   ]
  },
  {
   "cell_type": "code",
   "execution_count": 2,
   "metadata": {},
   "outputs": [
    {
     "name": "stdout",
     "output_type": "stream",
     "text": [
      "Stored 'x_test' (Tensor)\n",
      "Stored 'y_test' (Tensor)\n",
      "Fitting 5 folds for each of 5 candidates, totalling 25 fits\n"
     ]
    }
   ],
   "source": [
    "for batch_idx, (images, labels) in enumerate(subset_dataloader):\n",
    "    # images = np.asarray(images)\n",
    "    # labels = np.asarray(labels)\n",
    "    x_train, x_test, y_train, y_test = train_test_split(images, labels, test_size=0.2, stratify=labels)\n",
    "    %store x_test\n",
    "    %store y_test\n",
    "    x_train = np.asarray(x_train)\n",
    "    y_train = np.asarray(y_train)\n",
    "    x_test = np.asarray(x_test)\n",
    "    y_test = np.asarray(y_test)\n",
    "    x_train = x_train.reshape(x_train.shape[0], -1)\n",
    "    x_test = x_test.reshape(x_test.shape[0], -1)\n",
    "    \n",
    "    model = SVC(probability=True, decision_function_shape='ovr')\n",
    "\n",
    "    param_distributions = {'C': [0.01, 0.1, 1, 10, 100],\n",
    "                           'gamma': [0.01, 0.1, 1, 10, 100],\n",
    "                           'degree': [2, 3, 4, 5, 6],\n",
    "                           'kernel': ['poly', 'rbf', 'linear']}\n",
    "    \n",
    "    rnd_search = RandomizedSearchCV(model, param_distributions, n_iter=5, cv=5, verbose=2, random_state=42)\n",
    "    rnd_search.fit(x_train, y_train)\n",
    "\n",
    "    best_model = rnd_search.best_estimator_\n",
    "    print(\"Best model parameters:\")\n",
    "    print(best_model.get_params())\n",
    "\n",
    "    # Evaluate the final model\n",
    "    y_pred = best_model.predict(x_test)\n",
    "    print(f\"The model is {accuracy_score(y_test, y_pred) * 100}% accurate\")\n",
    "\n",
    "    # Plot learning curve\n",
    "    train_sizes, train_scores, test_scores = learning_curve(best_model, images, labels, cv=5,\n",
    "                                                            train_sizes=np.linspace(0.1, 1.0, 10),\n",
    "                                                            scoring='accuracy')\n",
    "\n",
    "    train_scores_mean = np.mean(train_scores, axis=1)\n",
    "    test_scores_mean = np.mean(test_scores, axis=1)\n",
    "\n",
    "    plt.figure()\n",
    "    plt.plot(train_sizes, train_scores_mean, 'o-', color=\"r\", label=\"Training score\")\n",
    "    plt.plot(train_sizes, test_scores_mean, 'o-', color=\"g\", label=\"Cross-validation score\")\n",
    "    plt.title(\"Learning Curve for SVM\")\n",
    "    plt.xlabel(\"Training examples\")\n",
    "    plt.ylabel(\"Score\")\n",
    "    plt.legend(loc=\"best\")\n",
    "    plt.grid()\n",
    "    plt.show()"
   ]
  },
  {
   "cell_type": "code",
   "execution_count": 14,
   "metadata": {},
   "outputs": [
    {
     "name": "stdout",
     "output_type": "stream",
     "text": [
      "                 precision    recall  f1-score   support\n",
      "\n",
      "  sleep stage W       0.52      0.65      0.58        20\n",
      "  sleep Stage 1       0.44      0.35      0.39        20\n",
      "  sleep Stage 2       0.65      0.55      0.59        20\n",
      "Sleep Stage 3/4       0.64      0.82      0.72        11\n",
      "  Sleep Stage R       0.42      0.40      0.41        20\n",
      "\n",
      "       accuracy                           0.53        91\n",
      "      macro avg       0.53      0.55      0.54        91\n",
      "   weighted avg       0.52      0.53      0.52        91\n",
      "\n"
     ]
    }
   ],
   "source": [
    "\n",
    "print(classification_report(y_test, y_pred, target_names=['sleep stage W', 'sleep Stage 1', 'sleep Stage 2', 'Sleep Stage 3/4', 'Sleep Stage R']))"
   ]
  },
  {
   "cell_type": "code",
   "execution_count": null,
   "metadata": {},
   "outputs": [],
   "source": [
    "# from sklearn.decomposition import PCA\n",
    "\n",
    "# pca = PCA(n_components=0.8)\n",
    "# pca.fit(x_train)\n",
    "# # print(pca.explained_variance_ratio_)\n",
    "# fig, axes = plt.subplots(2,10,figsize=(9,3),\n",
    "#  subplot_kw={'xticks':[], 'yticks':[]},\n",
    "#  gridspec_kw=dict(hspace=0.01, wspace=0.01))\n",
    "# for i, ax in enumerate(axes.flat):\n",
    "#  ax.imshow(pca.components_[i].reshape(64,64),cmap='gray')\n",
    "# converted_data = pca.fit_transform(x_train)"
   ]
  },
  {
   "cell_type": "code",
   "execution_count": null,
   "metadata": {},
   "outputs": [],
   "source": [
    "# plt.figure(figsize = (10,6))\n",
    "# c_map = plt.cm.get_cmap('jet', 10)\n",
    "# plt.scatter(converted_data[:, 0], converted_data[:, 1], s = 50,\n",
    "#             cmap = c_map , c = y_train)\n",
    "# plt.colorbar()\n",
    "# plt.xlabel('PC-1') , plt.ylabel('PC-2')\n",
    "# plt.show()"
   ]
  },
  {
   "cell_type": "code",
   "execution_count": 15,
   "metadata": {},
   "outputs": [
    {
     "data": {
      "image/png": "[encoded data removed]",
      "text/plain": [
       "<Figure size 640x480 with 2 Axes>"
      ]
     },
     "metadata": {},
     "output_type": "display_data"
    }
   ],
   "source": [
    "from sklearn.metrics import confusion_matrix, ConfusionMatrixDisplay\n",
    "cm = confusion_matrix(y_test, y_pred, labels=[1,2,3,4,5])\n",
    "disp = ConfusionMatrixDisplay(confusion_matrix=cm, display_labels = [\"stage W\", \"Stage 1\", \"Stage 2\", \"Stage 3/4\", \"Stage R\"])\n",
    "disp.plot()\n",
    "plt.show()"
   ]
  },
  {
   "cell_type": "code",
   "execution_count": 16,
   "metadata": {},
   "outputs": [
    {
     "data": {
      "text/plain": [
       "3.2637362637362637"
      ]
     },
     "execution_count": 16,
     "metadata": {},
     "output_type": "execute_result"
    }
   ],
   "source": [
    "from sklearn.metrics import mean_squared_error\n",
    "\n",
    "mean_squared_error(y_test, y_pred)"
   ]
  },
  {
   "cell_type": "code",
   "execution_count": 18,
   "metadata": {},
   "outputs": [
    {
     "name": "stdout",
     "output_type": "stream",
     "text": [
      "Stored 'x_test' (ndarray)\n",
      "Stored 'y_test' (ndarray)\n"
     ]
    }
   ],
   "source": [
    "%store x_test\n",
    "%store y_test"
   ]
  },
  {
   "cell_type": "code",
   "execution_count": null,
   "metadata": {},
   "outputs": [],
   "source": []
  }
 ],
 "metadata": {
  "kernelspec": {
   "display_name": "Python 3",
   "language": "python",
   "name": "python3"
  },
  "language_info": {
   "codemirror_mode": {
    "name": "ipython",
    "version": 3
   },
   "file_extension": ".py",
   "mimetype": "text/x-python",
   "name": "python",
   "nbconvert_exporter": "python",
   "pygments_lexer": "ipython3",
   "version": "3.11.5"
  }
 },
 "nbformat": 4,
 "nbformat_minor": 2
}
