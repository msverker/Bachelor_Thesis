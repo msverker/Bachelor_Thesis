{
 "cells": [
  {
   "cell_type": "code",
   "execution_count": 10,
   "metadata": {},
   "outputs": [],
   "source": [
    "import torch\n",
    "from torch.utils.data import Dataset, DataLoader\n",
    "from torchvision import transforms\n",
    "from sklearn.model_selection import train_test_split\n",
    "from PIL import Image\n",
    "from pathlib import Path\n",
    "import torchvision\n",
    "import seaborn as sns\n",
    "import matplotlib.pyplot as plt\n",
    "import numpy as np\n",
    "from sklearn.svm import SVC\n",
    "from sklearn.model_selection import GridSearchCV\n",
    "from sklearn.metrics import accuracy_score\n",
    "from sklearn.metrics import confusion_matrix\n",
    "\n",
    "class SpectrogramDataset(Dataset):\n",
    "    def __init__(self, spectro_folder):\n",
    "        self.spectrogram_folders = list(spectro_folder.glob('spectrogram_*'))\n",
    "        self.transform = transforms.Compose([\n",
    "            transforms.Resize((512, 512)),\n",
    "            transforms.ToTensor(),\n",
    "            transforms.Lambda(lambda x: torch.flatten(x)),\n",
    "        ])\n",
    "\n",
    "    def __len__(self):\n",
    "        return len(self.spectrogram_folders)\n",
    "\n",
    "    def __getitem__(self, idx):\n",
    "        folder_path = self.spectrogram_folders[idx]\n",
    "\n",
    "        # Load the spectrogram image\n",
    "        img = Image.open(folder_path / 'spectrogram.png').convert('RGB')\n",
    "        img = self.transform(img)\n",
    "\n",
    "        # Load the label\n",
    "        label_path = folder_path / 'label.txt'\n",
    "        with open(label_path, 'r') as label_file:\n",
    "            label = int(label_file.read().strip())\n",
    "\n",
    "        return img, label\n",
    "\n",
    "# Path to the folder containing your spectrograms\n",
    "spectro_folder = Path('/Users/madssverker/Documents/GitHub/Bachelor_Thesis/spectrograms')\n",
    "\n",
    "# Create a custom dataset\n",
    "Data = SpectrogramDataset(spectro_folder)\n",
    "\n",
    "batch_size = 100\n",
    "dataloader = DataLoader(Data, batch_size = batch_size)\n",
    "# images = np.asarray(images)\n",
    "# labels = np.asarray(labels)\n",
    "\n",
    "# Split the dataset into train and test sets\n",
    "# x_train, y_train, x_test, y_test = train_test_split(Data, test_size=0.2, shuffle=True, stratify=labels)\n",
    "# print(images)\n",
    "# # Create data loaders for train and test sets\n",
    "\n",
    "# train_data_loader = DataLoader(train_dataset, batch_size=batch_size, shuffle=True)\n",
    "# test_data_loader = DataLoader(test_dataset, batch_size=batch_size, shuffle=False)"
   ]
  },
  {
   "cell_type": "code",
   "execution_count": 11,
   "metadata": {},
   "outputs": [
    {
     "name": "stdout",
     "output_type": "stream",
     "text": [
      "90.0% of samples were correctly classfied\n"
     ]
    }
   ],
   "source": [
    "for batch in dataloader:\n",
    "    images, labels = batch\n",
    "    images = np.asarray(images)\n",
    "    labels = np.asarray(labels)\n",
    "    x_train, x_test, y_train, y_test = train_test_split(images, labels, test_size=0.2, shuffle = True, stratify=labels)\n",
    "\n",
    "    \n",
    "    classifier = SVC()\n",
    "\n",
    "    parameters = [{'gamma': [0.01, 0.001, 0.0001], 'C': [1, 5, 50, 500]}]\n",
    "\n",
    "    grid_search = GridSearchCV(classifier, parameters)\n",
    "\n",
    "    grid_search.fit(x_train, y_train)\n",
    "\n",
    "    best_estimator = grid_search.best_estimator_\n",
    "\n",
    "    y_pred = best_estimator.predict(x_test)\n",
    "\n",
    "    score = accuracy_score(y_pred, y_test)\n",
    "\n",
    "    print('{}% of samples were correctly classfied'.format(str(score * 100)))\n",
    "    "
   ]
  },
  {
   "cell_type": "code",
   "execution_count": 13,
   "metadata": {},
   "outputs": [
    {
     "name": "stdout",
     "output_type": "stream",
     "text": [
      "[1 3 2 1 2 4 5 1 2 4 1 5 3 4 3 2 5 5 3 4] [2 3 2 2 2 4 5 1 2 4 1 5 3 4 3 2 5 5 3 4]\n",
      "[[2 2 0 0 0]\n",
      " [0 4 0 0 0]\n",
      " [0 0 4 0 0]\n",
      " [0 0 0 4 0]\n",
      " [0 0 0 0 4]]\n"
     ]
    }
   ],
   "source": [
    "cm = confusion_matrix(y_test, y_pred)\n",
    "print(y_test, y_pred)\n",
    "print(cm)\n"
   ]
  },
  {
   "cell_type": "code",
   "execution_count": null,
   "metadata": {},
   "outputs": [],
   "source": []
  }
 ],
 "metadata": {
  "kernelspec": {
   "display_name": "Python 3",
   "language": "python",
   "name": "python3"
  },
  "language_info": {
   "codemirror_mode": {
    "name": "ipython",
    "version": 3
   },
   "file_extension": ".py",
   "mimetype": "text/x-python",
   "name": "python",
   "nbconvert_exporter": "python",
   "pygments_lexer": "ipython3",
   "version": "3.11.5"
  }
 },
 "nbformat": 4,
 "nbformat_minor": 2
}
