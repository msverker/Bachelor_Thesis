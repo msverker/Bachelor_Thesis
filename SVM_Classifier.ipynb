{
 "cells": [
  {
   "cell_type": "code",
   "execution_count": 6,
   "metadata": {},
   "outputs": [],
   "source": [
    "import torch\n",
    "from torch.utils.data import Dataset, DataLoader\n",
    "from torchvision import transforms\n",
    "from sklearn.model_selection import train_test_split\n",
    "from PIL import Image\n",
    "from pathlib import Path\n",
    "import torchvision\n",
    "import seaborn as sns\n",
    "import matplotlib.pyplot as plt\n",
    "import numpy as np\n",
    "from sklearn.svm import SVC\n",
    "from sklearn.model_selection import GridSearchCV\n",
    "from sklearn.metrics import accuracy_score\n",
    "\n",
    "class SpectrogramDataset(Dataset):\n",
    "    def __init__(self, spectro_folder):\n",
    "        self.spectrogram_folders = list(spectro_folder.glob('spectrogram_*'))\n",
    "        self.transform = transforms.Compose([\n",
    "            transforms.Resize((64, 64)),\n",
    "            transforms.ToTensor(),\n",
    "            transforms.Lambda(lambda x: torch.flatten(x)),\n",
    "        ])\n",
    "\n",
    "    def __len__(self):\n",
    "        return len(self.spectrogram_folders)\n",
    "\n",
    "    def __getitem__(self, idx):\n",
    "        folder_path = self.spectrogram_folders[idx]\n",
    "\n",
    "        # Load the spectrogram image\n",
    "        img = Image.open(folder_path / 'spectrogram.png') #.convert('L')\n",
    "        img = self.transform(img)\n",
    "\n",
    "        # Load the label\n",
    "        label_path = folder_path / 'label.txt'\n",
    "        with open(label_path, 'r') as label_file:\n",
    "            label = int(label_file.read().strip())\n",
    "\n",
    "        return img, label\n",
    "\n",
    "# Path to the folder containing your spectrograms\n",
    "spectro_folder = Path('./spectrograms')\n",
    "\n",
    "# Create a custom dataset\n",
    "Data = SpectrogramDataset(spectro_folder)\n",
    "dataloader = DataLoader(Data, batch_size = len(Data))"
   ]
  },
  {
   "cell_type": "code",
   "execution_count": 7,
   "metadata": {},
   "outputs": [
    {
     "name": "stdout",
     "output_type": "stream",
     "text": [
      "Training SVM for batch 1/1...\n",
      "The model is 68.0161943319838% accurate\n"
     ]
    }
   ],
   "source": [
    "for batch_idx, (images, labels) in enumerate(dataloader):\n",
    "    print(f\"Training SVM for batch {batch_idx + 1}/{len(dataloader)}...\")\n",
    "    images = np.asarray(images)\n",
    "    labels = np.asarray(labels)\n",
    "    \n",
    "    x_train, x_test, y_train, y_test = train_test_split(images, labels, test_size=0.2, stratify=labels)\n",
    "    \n",
    "    classifier = SVC(probability=True)\n",
    "\n",
    "    param_grid={'C':[0.1,10], \n",
    "            'gamma':[0.01,0.1], \n",
    "            'kernel':['rbf','poly']} \n",
    "\n",
    "    model = GridSearchCV(classifier, param_grid)\n",
    "\n",
    "    model.fit(x_train, y_train)\n",
    "\n",
    "\n",
    "    # Evaluate the final model\n",
    "    y_pred = model.predict(x_test)\n",
    "    print(f\"The model is {accuracy_score(y_pred, y_test) * 100}% accurate\")"
   ]
  },
  {
   "cell_type": "code",
   "execution_count": 8,
   "metadata": {},
   "outputs": [
    {
     "name": "stdout",
     "output_type": "stream",
     "text": [
      "                 precision    recall  f1-score   support\n",
      "\n",
      "  sleep stage W       0.62      0.72      0.67        40\n",
      "  sleep Stage 1       0.32      0.27      0.30        33\n",
      "  sleep Stage 2       0.82      0.86      0.84       124\n",
      "Sleep Stage 3/4       0.56      0.45      0.50        11\n",
      "  Sleep Stage R       0.55      0.46      0.50        39\n",
      "\n",
      "       accuracy                           0.68       247\n",
      "      macro avg       0.57      0.56      0.56       247\n",
      "   weighted avg       0.67      0.68      0.67       247\n",
      "\n"
     ]
    }
   ],
   "source": [
    "from sklearn.metrics import classification_report\n",
    "print(classification_report(y_test, y_pred, target_names=['sleep stage W', 'sleep Stage 1', 'sleep Stage 2', 'Sleep Stage 3/4', 'Sleep Stage R']))"
   ]
  },
  {
   "cell_type": "code",
   "execution_count": null,
   "metadata": {},
   "outputs": [],
   "source": [
    "# for batch_idx, (images, labels) in enumerate(dataloader):\n",
    "#     print(f\"Training SVM for batch {batch_idx + 1}/{len(dataloader)}...\")\n",
    "#     images = np.asarray(images)\n",
    "#     labels = np.asarray(labels)\n",
    "#     x_train, x_test, y_train, y_test = train_test_split(images, labels, test_size=0.2, random_state=77,)\n",
    "    \n",
    "#     classifier = SVC(probability=True)\n",
    "\n",
    "#     param_grid = {'C': [0.1, 1, 10, 100], 'gamma': [0.0001, 0.001, 0.1, 1], 'kernel': ['rbf', 'poly']}\n",
    "\n",
    "#     model = GridSearchCV(classifier, param_grid)\n",
    "\n",
    "#     model.fit(x_train, y_train)\n",
    "\n",
    "#     y_pred = model.predict(x_test)\n",
    "    \n",
    "#     print(f\"The model is {accuracy_score(y_pred,y_test)*100}% accurate\")"
   ]
  },
  {
   "cell_type": "code",
   "execution_count": null,
   "metadata": {},
   "outputs": [],
   "source": [
    "from sklearn.decomposition import PCA\n",
    "\n",
    "pca = PCA(n_components=0.8)\n",
    "pca.fit(x_train)\n",
    "# print(pca.explained_variance_ratio_)\n",
    "fig, axes = plt.subplots(2,10,figsize=(9,3),\n",
    " subplot_kw={'xticks':[], 'yticks':[]},\n",
    " gridspec_kw=dict(hspace=0.01, wspace=0.01))\n",
    "for i, ax in enumerate(axes.flat):\n",
    " ax.imshow(pca.components_[i].reshape(64,64),cmap='gray')\n",
    "converted_data = pca.fit_transform(x_train)"
   ]
  },
  {
   "cell_type": "code",
   "execution_count": null,
   "metadata": {},
   "outputs": [],
   "source": [
    "plt.figure(figsize = (10,6))\n",
    "c_map = plt.cm.get_cmap('jet', 10)\n",
    "plt.scatter(converted_data[:, 0], converted_data[:, 1], s = 50,\n",
    "            cmap = c_map , c = y_train)\n",
    "plt.colorbar()\n",
    "plt.xlabel('PC-1') , plt.ylabel('PC-2')\n",
    "plt.show()"
   ]
  },
  {
   "cell_type": "code",
   "execution_count": 9,
   "metadata": {},
   "outputs": [
    {
     "data": {
      "image/png": "[encoded data removed]",
      "text/plain": [
       "<Figure size 640x480 with 2 Axes>"
      ]
     },
     "metadata": {},
     "output_type": "display_data"
    }
   ],
   "source": [
    "from sklearn.metrics import confusion_matrix, ConfusionMatrixDisplay\n",
    "cm = confusion_matrix(y_test, y_pred, labels=[1,2,3,4,5])\n",
    "disp = ConfusionMatrixDisplay(confusion_matrix=cm, display_labels = [\"stage W\", \"Stage 1\", \"Stage 2\", \"Stage 3/4\", \"Stage R\"])\n",
    "disp.plot()\n",
    "plt.show()\n"
   ]
  }
 ],
 "metadata": {
  "kernelspec": {
   "display_name": "Python 3",
   "language": "python",
   "name": "python3"
  },
  "language_info": {
   "codemirror_mode": {
    "name": "ipython",
    "version": 3
   },
   "file_extension": ".py",
   "mimetype": "text/x-python",
   "name": "python",
   "nbconvert_exporter": "python",
   "pygments_lexer": "ipython3",
   "version": "3.11.5"
  }
 },
 "nbformat": 4,
 "nbformat_minor": 2
}
