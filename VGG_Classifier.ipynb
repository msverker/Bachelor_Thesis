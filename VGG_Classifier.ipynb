{
 "cells": [
  {
   "cell_type": "code",
   "execution_count": 40,
   "metadata": {},
   "outputs": [],
   "source": [
    "import torch\n",
    "from torch.utils.data import Dataset, DataLoader\n",
    "from torchvision import transforms\n",
    "from sklearn.model_selection import train_test_split\n",
    "from PIL import Image\n",
    "from pathlib import Path\n",
    "import torchvision\n",
    "import seaborn as sns\n",
    "import matplotlib.pyplot as plt\n",
    "import numpy as np\n",
    "from tqdm import tqdm\n",
    "import torch.nn.functional as F\n",
    "import torch.nn as nn\n",
    "\n",
    "class SpectrogramDataset(Dataset):\n",
    "    def __init__(self, spectro_folder):\n",
    "        self.spectrogram_folders = list(spectro_folder.glob('spectrogram_*'))\n",
    "        self.transform = transforms.Compose([\n",
    "            transforms.Resize((128, 128)),\n",
    "            transforms.ToTensor(),\n",
    "            # transforms.Lambda(lambda x: torch.flatten(x)),\n",
    "        ])\n",
    "\n",
    "    def __len__(self):\n",
    "        return len(self.spectrogram_folders)\n",
    "\n",
    "    def __getitem__(self, idx):\n",
    "        folder_path = self.spectrogram_folders[idx]\n",
    "\n",
    "        # Load the spectrogram image\n",
    "        img = Image.open(folder_path / 'spectrogram.png').convert('RGB')\n",
    "        img = self.transform(img)\n",
    "\n",
    "        # Load the label\n",
    "        label_path = folder_path / 'label.txt'\n",
    "        with open(label_path, 'r') as label_file:\n",
    "            label = int(label_file.read().strip()) - 1\n",
    "\n",
    "        return img, label\n",
    "\n",
    "# Path to the folder containing your spectrograms\n",
    "spectro_folder = Path('/Users/madssverker/Documents/GitHub/Bachelor_Thesis/spectrograms')\n",
    "\n",
    "# Create a custom dataset\n",
    "Data = SpectrogramDataset(spectro_folder)\n",
    "\n",
    "batch_size = 40\n",
    "\n",
    "train_set, test_set = train_test_split(Data, test_size = 0.2, shuffle = True)\n",
    "\n",
    "train_loader = DataLoader(train_set, batch_size = batch_size, shuffle = True, num_workers = 3)\n",
    "test_loader = DataLoader(test_set, batch_size = batch_size, shuffle = False, num_workers = 3)"
   ]
  },
  {
   "cell_type": "code",
   "execution_count": 44,
   "metadata": {},
   "outputs": [],
   "source": [
    "#We define the training as a function so we can easily re-use it.\n",
    "def train(model, optimizer, num_epochs=5):\n",
    "    def loss_fun(output, target):\n",
    "        return F.cross_entropy(output, target)\n",
    "    out_dict = {'train_acc': [],\n",
    "              'test_acc': [],\n",
    "              'train_loss': [],\n",
    "              'test_loss': []}\n",
    "  \n",
    "    for epoch in tqdm(range(num_epochs), unit='epoch'):\n",
    "        model.train()\n",
    "        #For each epoch\n",
    "        train_correct = 0\n",
    "        train_loss = []\n",
    "        for minibatch_no, (data, target) in tqdm(enumerate(train_loader), total=len(train_loader)):\n",
    "            data, target = data.to(device), target.to(device)\n",
    "            \n",
    "            #Zero the gradients computed for each weight\n",
    "            optimizer.zero_grad()\n",
    "            #Forward pass your image through the network\n",
    "            output = model(data)\n",
    "                       \n",
    "            #Compute the loss\n",
    "            loss = loss_fun(output, target)\n",
    "            #Backward pass through the network\n",
    "            loss.backward()\n",
    "            #Update the weights\n",
    "            optimizer.step()\n",
    "\n",
    "            train_loss.append(loss.item())\n",
    "            #Compute how many were correctly classified\n",
    "            predicted = output.argmax(1)\n",
    "            train_correct += (target==predicted).sum().cpu().item()\n",
    "        #Comput the test accuracy\n",
    "        test_loss = []\n",
    "        test_correct = 0\n",
    "        model.eval()\n",
    "        for data, target in test_loader:\n",
    "            data, target = data.to(device), target.to(device)\n",
    "            with torch.no_grad():\n",
    "                output = model(data)\n",
    "            test_loss.append(loss_fun(output, target).cpu().item())\n",
    "            predicted = output.argmax(1)\n",
    "            test_correct += (target==predicted).sum().cpu().item()\n",
    "        out_dict['train_acc'].append(train_correct/len(train_set))\n",
    "        out_dict['test_acc'].append(test_correct/len(test_set))\n",
    "        out_dict['train_loss'].append(np.mean(train_loss))\n",
    "        out_dict['test_loss'].append(np.mean(test_loss))\n",
    "        print(f\"Loss train: {np.mean(train_loss):.3f}\\t test: {np.mean(test_loss):.3f}\\t\",\n",
    "              f\"Accuracy train: {out_dict['train_acc'][-1]*100:.1f}%\\t test: {out_dict['test_acc'][-1]*100:.1f}%\")\n",
    "    return out_dict\n"
   ]
  },
  {
   "cell_type": "code",
   "execution_count": 45,
   "metadata": {},
   "outputs": [],
   "source": [
    "device = torch.device(\"cpu\")"
   ]
  },
  {
   "cell_type": "code",
   "execution_count": 49,
   "metadata": {},
   "outputs": [
    {
     "name": "stderr",
     "output_type": "stream",
     "text": [
      "100%|██████████| 2/2 [00:04<00:00,  2.10s/it]\n",
      "  4%|▍         | 1/25 [00:06<02:34,  6.42s/epoch]"
     ]
    },
    {
     "name": "stdout",
     "output_type": "stream",
     "text": [
      "Loss train: 1.726\t test: 1.747\t Accuracy train: 13.9%\t test: 15.0%\n"
     ]
    },
    {
     "name": "stderr",
     "output_type": "stream",
     "text": [
      "100%|██████████| 2/2 [00:03<00:00,  1.92s/it]\n",
      "  8%|▊         | 2/25 [00:12<02:19,  6.06s/epoch]"
     ]
    },
    {
     "name": "stdout",
     "output_type": "stream",
     "text": [
      "Loss train: 1.568\t test: 1.590\t Accuracy train: 30.4%\t test: 30.0%\n"
     ]
    },
    {
     "name": "stderr",
     "output_type": "stream",
     "text": [
      "100%|██████████| 2/2 [00:03<00:00,  1.91s/it]\n",
      " 12%|█▏        | 3/25 [00:17<02:10,  5.92s/epoch]"
     ]
    },
    {
     "name": "stdout",
     "output_type": "stream",
     "text": [
      "Loss train: 1.569\t test: 1.569\t Accuracy train: 34.2%\t test: 40.0%\n"
     ]
    },
    {
     "name": "stderr",
     "output_type": "stream",
     "text": [
      "100%|██████████| 2/2 [00:03<00:00,  1.94s/it]\n",
      " 16%|█▌        | 4/25 [00:23<02:04,  5.91s/epoch]"
     ]
    },
    {
     "name": "stdout",
     "output_type": "stream",
     "text": [
      "Loss train: 1.649\t test: 1.630\t Accuracy train: 25.3%\t test: 25.0%\n"
     ]
    },
    {
     "name": "stderr",
     "output_type": "stream",
     "text": [
      "100%|██████████| 2/2 [00:03<00:00,  1.90s/it]\n",
      " 20%|██        | 5/25 [00:29<01:57,  5.86s/epoch]"
     ]
    },
    {
     "name": "stdout",
     "output_type": "stream",
     "text": [
      "Loss train: 1.565\t test: 1.668\t Accuracy train: 35.4%\t test: 30.0%\n"
     ]
    },
    {
     "name": "stderr",
     "output_type": "stream",
     "text": [
      "100%|██████████| 2/2 [00:03<00:00,  1.92s/it]\n",
      " 24%|██▍       | 6/25 [00:35<01:51,  5.86s/epoch]"
     ]
    },
    {
     "name": "stdout",
     "output_type": "stream",
     "text": [
      "Loss train: 1.604\t test: 1.677\t Accuracy train: 25.3%\t test: 25.0%\n"
     ]
    },
    {
     "name": "stderr",
     "output_type": "stream",
     "text": [
      "100%|██████████| 2/2 [00:03<00:00,  1.90s/it]\n",
      " 28%|██▊       | 7/25 [00:41<01:44,  5.82s/epoch]"
     ]
    },
    {
     "name": "stdout",
     "output_type": "stream",
     "text": [
      "Loss train: 1.506\t test: 1.544\t Accuracy train: 39.2%\t test: 20.0%\n"
     ]
    },
    {
     "name": "stderr",
     "output_type": "stream",
     "text": [
      "100%|██████████| 2/2 [00:03<00:00,  1.91s/it]\n",
      " 32%|███▏      | 8/25 [00:47<01:38,  5.81s/epoch]"
     ]
    },
    {
     "name": "stdout",
     "output_type": "stream",
     "text": [
      "Loss train: 1.463\t test: 1.514\t Accuracy train: 38.0%\t test: 25.0%\n"
     ]
    },
    {
     "name": "stderr",
     "output_type": "stream",
     "text": [
      "100%|██████████| 2/2 [00:03<00:00,  1.89s/it]\n",
      " 36%|███▌      | 9/25 [00:52<01:32,  5.79s/epoch]"
     ]
    },
    {
     "name": "stdout",
     "output_type": "stream",
     "text": [
      "Loss train: 1.422\t test: 1.599\t Accuracy train: 34.2%\t test: 35.0%\n"
     ]
    },
    {
     "name": "stderr",
     "output_type": "stream",
     "text": [
      "100%|██████████| 2/2 [00:03<00:00,  1.90s/it]\n",
      " 40%|████      | 10/25 [00:58<01:26,  5.79s/epoch]"
     ]
    },
    {
     "name": "stdout",
     "output_type": "stream",
     "text": [
      "Loss train: 1.471\t test: 1.519\t Accuracy train: 40.5%\t test: 30.0%\n"
     ]
    },
    {
     "name": "stderr",
     "output_type": "stream",
     "text": [
      "100%|██████████| 2/2 [00:03<00:00,  1.91s/it]\n",
      " 44%|████▍     | 11/25 [01:04<01:21,  5.83s/epoch]"
     ]
    },
    {
     "name": "stdout",
     "output_type": "stream",
     "text": [
      "Loss train: 1.394\t test: 1.477\t Accuracy train: 40.5%\t test: 35.0%\n"
     ]
    },
    {
     "name": "stderr",
     "output_type": "stream",
     "text": [
      "100%|██████████| 2/2 [00:03<00:00,  1.91s/it]\n",
      " 48%|████▊     | 12/25 [01:10<01:15,  5.81s/epoch]"
     ]
    },
    {
     "name": "stdout",
     "output_type": "stream",
     "text": [
      "Loss train: 1.323\t test: 1.438\t Accuracy train: 49.4%\t test: 45.0%\n"
     ]
    },
    {
     "name": "stderr",
     "output_type": "stream",
     "text": [
      "100%|██████████| 2/2 [00:04<00:00,  2.00s/it]\n",
      " 52%|█████▏    | 13/25 [01:16<01:10,  5.87s/epoch]"
     ]
    },
    {
     "name": "stdout",
     "output_type": "stream",
     "text": [
      "Loss train: 1.287\t test: 1.445\t Accuracy train: 51.9%\t test: 40.0%\n"
     ]
    },
    {
     "name": "stderr",
     "output_type": "stream",
     "text": [
      "100%|██████████| 2/2 [00:03<00:00,  1.92s/it]\n",
      " 56%|█████▌    | 14/25 [01:22<01:04,  5.88s/epoch]"
     ]
    },
    {
     "name": "stdout",
     "output_type": "stream",
     "text": [
      "Loss train: 1.215\t test: 1.399\t Accuracy train: 64.6%\t test: 45.0%\n"
     ]
    },
    {
     "name": "stderr",
     "output_type": "stream",
     "text": [
      "100%|██████████| 2/2 [00:03<00:00,  1.89s/it]\n",
      " 60%|██████    | 15/25 [01:27<00:58,  5.85s/epoch]"
     ]
    },
    {
     "name": "stdout",
     "output_type": "stream",
     "text": [
      "Loss train: 1.227\t test: 1.476\t Accuracy train: 67.1%\t test: 40.0%\n"
     ]
    },
    {
     "name": "stderr",
     "output_type": "stream",
     "text": [
      "100%|██████████| 2/2 [00:04<00:00,  2.02s/it]\n",
      " 64%|██████▍   | 16/25 [01:33<00:53,  5.90s/epoch]"
     ]
    },
    {
     "name": "stdout",
     "output_type": "stream",
     "text": [
      "Loss train: 1.218\t test: 1.449\t Accuracy train: 57.0%\t test: 40.0%\n"
     ]
    },
    {
     "name": "stderr",
     "output_type": "stream",
     "text": [
      "100%|██████████| 2/2 [00:03<00:00,  1.95s/it]\n",
      " 68%|██████▊   | 17/25 [01:39<00:47,  5.91s/epoch]"
     ]
    },
    {
     "name": "stdout",
     "output_type": "stream",
     "text": [
      "Loss train: 1.214\t test: 1.412\t Accuracy train: 55.7%\t test: 45.0%\n"
     ]
    },
    {
     "name": "stderr",
     "output_type": "stream",
     "text": [
      "100%|██████████| 2/2 [00:03<00:00,  1.95s/it]\n",
      " 72%|███████▏  | 18/25 [01:45<00:41,  5.91s/epoch]"
     ]
    },
    {
     "name": "stdout",
     "output_type": "stream",
     "text": [
      "Loss train: 1.184\t test: 1.455\t Accuracy train: 58.2%\t test: 55.0%\n"
     ]
    },
    {
     "name": "stderr",
     "output_type": "stream",
     "text": [
      "100%|██████████| 2/2 [00:03<00:00,  1.93s/it]\n",
      " 76%|███████▌  | 19/25 [01:51<00:35,  5.88s/epoch]"
     ]
    },
    {
     "name": "stdout",
     "output_type": "stream",
     "text": [
      "Loss train: 1.118\t test: 1.403\t Accuracy train: 64.6%\t test: 45.0%\n"
     ]
    },
    {
     "name": "stderr",
     "output_type": "stream",
     "text": [
      "100%|██████████| 2/2 [00:03<00:00,  1.99s/it]\n",
      " 80%|████████  | 20/25 [01:57<00:29,  5.90s/epoch]"
     ]
    },
    {
     "name": "stdout",
     "output_type": "stream",
     "text": [
      "Loss train: 1.153\t test: 1.415\t Accuracy train: 63.3%\t test: 50.0%\n"
     ]
    },
    {
     "name": "stderr",
     "output_type": "stream",
     "text": [
      "100%|██████████| 2/2 [00:04<00:00,  2.01s/it]\n",
      " 84%|████████▍ | 21/25 [02:03<00:23,  5.96s/epoch]"
     ]
    },
    {
     "name": "stdout",
     "output_type": "stream",
     "text": [
      "Loss train: 1.225\t test: 1.391\t Accuracy train: 51.9%\t test: 45.0%\n"
     ]
    },
    {
     "name": "stderr",
     "output_type": "stream",
     "text": [
      "100%|██████████| 2/2 [00:03<00:00,  2.00s/it]\n",
      " 88%|████████▊ | 22/25 [02:09<00:17,  5.98s/epoch]"
     ]
    },
    {
     "name": "stdout",
     "output_type": "stream",
     "text": [
      "Loss train: 1.244\t test: 1.395\t Accuracy train: 53.2%\t test: 60.0%\n"
     ]
    },
    {
     "name": "stderr",
     "output_type": "stream",
     "text": [
      "100%|██████████| 2/2 [00:03<00:00,  1.98s/it]\n",
      " 92%|█████████▏| 23/25 [02:15<00:11,  6.00s/epoch]"
     ]
    },
    {
     "name": "stdout",
     "output_type": "stream",
     "text": [
      "Loss train: 1.207\t test: 1.337\t Accuracy train: 51.9%\t test: 50.0%\n"
     ]
    },
    {
     "name": "stderr",
     "output_type": "stream",
     "text": [
      "100%|██████████| 2/2 [00:04<00:00,  2.10s/it]\n",
      " 96%|█████████▌| 24/25 [02:21<00:06,  6.06s/epoch]"
     ]
    },
    {
     "name": "stdout",
     "output_type": "stream",
     "text": [
      "Loss train: 1.107\t test: 1.349\t Accuracy train: 67.1%\t test: 45.0%\n"
     ]
    },
    {
     "name": "stderr",
     "output_type": "stream",
     "text": [
      "100%|██████████| 2/2 [00:04<00:00,  2.00s/it]\n",
      "100%|██████████| 25/25 [02:28<00:00,  5.92s/epoch]"
     ]
    },
    {
     "name": "stdout",
     "output_type": "stream",
     "text": [
      "Loss train: 1.054\t test: 1.378\t Accuracy train: 64.6%\t test: 40.0%\n"
     ]
    },
    {
     "name": "stderr",
     "output_type": "stream",
     "text": [
      "\n"
     ]
    }
   ],
   "source": [
    "import torchvision.models as models\n",
    "model = models.vgg16(pretrained=True)\n",
    "for param in model.parameters():\n",
    "    param.requires_grad = False\n",
    "\n",
    "num_features = model.classifier[-1].in_features\n",
    "model.classifier[6] = nn.Linear(num_features, 5)\n",
    "model = model.to(device)\n",
    "optimizer = torch.optim.SGD(model.parameters(), lr = 0.01)\n",
    "output_dict = train(model, optimizer, num_epochs=25)\n"
   ]
  },
  {
   "cell_type": "code",
   "execution_count": 50,
   "metadata": {},
   "outputs": [
    {
     "data": {
      "image/png": "[encoded data removed]",
      "text/plain": [
       "<Figure size 640x480 with 2 Axes>"
      ]
     },
     "metadata": {},
     "output_type": "display_data"
    }
   ],
   "source": [
    "train_acc = output_dict['train_acc']\n",
    "test_acc = output_dict['test_acc']\n",
    "train_loss = output_dict['train_loss']\n",
    "test_loss = output_dict['test_loss']\n",
    "epochs = range(1, len(train_acc) + 1)\n",
    "\n",
    "plt.subplot(2, 1, 1)\n",
    "plt.plot(epochs, train_acc, label='Train Accuracy')\n",
    "plt.plot(epochs, test_acc, label='Test Accuracy')\n",
    "plt.xlabel('Epochs')\n",
    "plt.ylabel('Accuracy')\n",
    "plt.title('Accuracy plot')\n",
    "plt.legend()\n",
    "\n",
    "plt.subplot(2, 1, 2)\n",
    "plt.plot(epochs, train_loss, label='Train Loss')\n",
    "plt.plot(epochs, test_loss, label='Test Loss')\n",
    "plt.xlabel('Epochs')\n",
    "plt.ylabel('Loss')\n",
    "plt.title('Loss plot')\n",
    "plt.legend()\n",
    "\n",
    "plt.tight_layout()\n",
    "plt.show()"
   ]
  },
  {
   "cell_type": "code",
   "execution_count": null,
   "metadata": {},
   "outputs": [],
   "source": []
  }
 ],
 "metadata": {
  "kernelspec": {
   "display_name": "Python 3",
   "language": "python",
   "name": "python3"
  },
  "language_info": {
   "codemirror_mode": {
    "name": "ipython",
    "version": 3
   },
   "file_extension": ".py",
   "mimetype": "text/x-python",
   "name": "python",
   "nbconvert_exporter": "python",
   "pygments_lexer": "ipython3",
   "version": "3.11.5"
  }
 },
 "nbformat": 4,
 "nbformat_minor": 2
}
