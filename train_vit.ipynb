{
 "cells": [
  {
   "cell_type": "code",
   "execution_count": 2,
   "metadata": {},
   "outputs": [],
   "source": [
    "import numpy as np\n",
    "import os\n",
    "import random\n",
    "import torch\n",
    "from torch import nn\n",
    "import torch.nn.functional as F\n",
    "import tqdm\n",
    "import torchvision\n",
    "import torchvision.transforms as transforms\n",
    "from vit import ViT\n",
    "from sklearn.model_selection import train_test_split\n",
    "import matplotlib.pyplot as plt\n",
    "from torch_loader import *\n",
    "from bhutan_loader import *\n",
    "\n",
    "def prepare_dataloaders(batch_size, dataset = remaining_dataset):\n",
    "    # #IF SLEEP-EDF\n",
    "    # batch_size = 128\n",
    "    # train_size = int(0.8 * len(remaining_dataset))\n",
    "    # test_size = len(remaining_dataset) - train_size\n",
    "\n",
    "    # train_dataset, test_dataset = torch.utils.data.random_split(remaining_dataset,\n",
    "    #                                                             [train_size, test_size])\n",
    "    # train_loader = DataLoader(train_dataset, batch_size=batch_size, shuffle=True)#, num_workers=0)\n",
    "    # test_loader = DataLoader(test_dataset, batch_size = batch_size, shuffle = False)#, num_workers=4)\n",
    "    \n",
    "    #IF BHUTAN\n",
    "    batch_size = 25\n",
    "    train_valid_size = int(0.85 * len(Bhutan_dataset))\n",
    "    test_size = len(Bhutan_dataset) - train_valid_size\n",
    "    generator1 = torch.Generator().manual_seed(0)\n",
    "    train_valid_dataset, test_dataset = torch.utils.data.random_split(\n",
    "    Bhutan_dataset, \n",
    "    [train_valid_size, test_size], \n",
    "    generator=generator1\n",
    "    )\n",
    "\n",
    "    train_size = int(0.70 * len(Bhutan_dataset))\n",
    "    valid_size = len(train_valid_dataset) - train_size\n",
    "    train_dataset, valid_dataset = torch.utils.data.random_split(\n",
    "    train_valid_dataset,\n",
    "    [train_size, valid_size],\n",
    "    )\n",
    "\n",
    "    train_loader = DataLoader(train_dataset, batch_size=batch_size, shuffle=True, num_workers=3)\n",
    "    valid_loader = DataLoader(valid_dataset, batch_size=len(valid_dataset), shuffle=False, num_workers=3)\n",
    "    test_loader = DataLoader(test_dataset, batch_size=batch_size, shuffle=False, num_workers=3)\n",
    "    \n",
    "    return train_loader, test_loader, valid_loader, train_dataset, test_dataset, valid_dataset\n",
    "\n",
    "#IF BHUTAN, 19 channels and batch 25 with 'cls' and 'fixed', if SLEEP-EDF 3 channels and 128 batch with 'cls' and 'learnable'.\n",
    "def main(image_size=(224,224), patch_size=(56,56), channels=19, \n",
    "         embed_dim=224, num_heads=4, num_layers=4, num_classes=5,\n",
    "         pos_enc='fixed', pool='cls', dropout=0.3, fc_dim=None, \n",
    "         num_epochs=50, batch_size=25, lr=1e-3, warmup_steps=625,\n",
    "         weight_decay=0.1, gradient_clipping=1\n",
    "    ):\n",
    "\n",
    "    out_dict = {'train_acc': [],\n",
    "              'test_acc': [],\n",
    "              'train_loss': [],\n",
    "              'test_loss': [],\n",
    "              'y_pred': [],\n",
    "              'y_true': []}\n",
    "\n",
    "    loss_function = nn.CrossEntropyLoss()\n",
    "\n",
    "    train_iter, test_iter, valid_iter, train_set, test_set, valid_set = prepare_dataloaders(batch_size=batch_size, dataset = Bhutan_dataset)\n",
    "\n",
    "    model = ViT(image_size=image_size, patch_size=patch_size, channels=channels, \n",
    "                embed_dim=embed_dim, num_heads=num_heads, num_layers=num_layers,\n",
    "                pos_enc=pos_enc, pool=pool, dropout=dropout, fc_dim=fc_dim, \n",
    "                num_classes=num_classes\n",
    "    )\n",
    "\n",
    "    if torch.cuda.is_available():\n",
    "        model = model.to('cuda')\n",
    "\n",
    "    opt = torch.optim.AdamW(lr=lr, params=model.parameters(), weight_decay=weight_decay)\n",
    "    sch = torch.optim.lr_scheduler.LambdaLR(opt, lambda i: min(i / warmup_steps, 1.0))\n",
    "\n",
    "    device = torch.device(\"cuda\" if torch.cuda.is_available() else \"cpu\")\n",
    "    # training loop\n",
    "    best_val_loss = 1e10\n",
    "    for e in range(num_epochs):\n",
    "        print(f'\\n epoch {e}')\n",
    "        model.train()\n",
    "        train_loss = 0\n",
    "        for image, label in tqdm.tqdm(train_iter):\n",
    "            if torch.cuda.is_available():\n",
    "                image, label = image.to('cuda'), label.to('cuda')\n",
    "            opt.zero_grad()\n",
    "            out, atten_matix_list = model(image)\n",
    "            loss = loss_function(out, label)\n",
    "            loss.backward()\n",
    "            train_loss += loss.item()\n",
    "            # if the total gradient vector has a length > 1, we clip it back down to 1.\n",
    "            if gradient_clipping > 0.0:\n",
    "                nn.utils.clip_grad_norm_(model.parameters(), gradient_clipping)\n",
    "            opt.step()\n",
    "            sch.step()\n",
    "\n",
    "        train_loss/=len(train_iter)\n",
    "\n",
    "        val_loss = 0\n",
    "        with torch.no_grad():\n",
    "            model.eval()\n",
    "            tot, cor= 0.0, 0.0\n",
    "            y_true = []\n",
    "            y_pred = []\n",
    "            for image, label in test_iter:\n",
    "                if torch.cuda.is_available():\n",
    "                    image, label = image.to('cuda'), label.to('cuda')\n",
    "                out, atten_matrix_list = model(image)\n",
    "                loss = loss_function(out, label)\n",
    "                val_loss += loss.item()\n",
    "                out = out.argmax(dim=1)\n",
    "                y_pred.extend(out.cpu().numpy())\n",
    "                y_true.extend(label.cpu().numpy())\n",
    "                tot += float(image.size(0))\n",
    "                cor += float((label == out).sum().item())\n",
    "            acc = cor / tot\n",
    "            val_loss /= len(test_iter)\n",
    "            std = 1 - accuracy_score(y_true, y_pred)\n",
    "            sem = std / np.sqrt(len(y_true))\n",
    "            sem_p = (sem / 1)\n",
    "            print(f'-- train loss {train_loss:.3f} -- test accuracy {acc:.3f} -- test loss: {val_loss:.3f} -- SEM {sem_p * 100:.3f}')\n",
    "            if val_loss <= best_val_loss:\n",
    "                torch.save(model.state_dict(), 'model2_ViT_Bhutan.pth')\n",
    "                best_val_loss = val_loss\n",
    "            \n",
    "        out_dict['y_pred'].append(y_pred)\n",
    "        out_dict['y_true'].append(y_true)\n",
    "\n",
    "        # save model\n",
    "        torch.save(model, 'model2_ViT_Bhutan.pth')\n",
    "    return out_dict"
   ]
  },
  {
   "cell_type": "code",
   "execution_count": 3,
   "metadata": {},
   "outputs": [
    {
     "name": "stdout",
     "output_type": "stream",
     "text": [
      "Model will run on cpu\n",
      "\n",
      " epoch 0\n"
     ]
    },
    {
     "name": "stderr",
     "output_type": "stream",
     "text": [
      "100%|██████████| 31/31 [00:02<00:00, 10.60it/s]\n"
     ]
    },
    {
     "name": "stdout",
     "output_type": "stream",
     "text": [
      "-- train loss 1.728 -- validation accuracy 0.146 -- validation loss: 1.504\n",
      "\n",
      " epoch 1\n"
     ]
    },
    {
     "name": "stderr",
     "output_type": "stream",
     "text": [
      "100%|██████████| 31/31 [00:02<00:00, 10.61it/s]\n"
     ]
    },
    {
     "name": "stdout",
     "output_type": "stream",
     "text": [
      "-- train loss 1.681 -- validation accuracy 0.526 -- validation loss: 1.366\n",
      "\n",
      " epoch 2\n"
     ]
    },
    {
     "name": "stderr",
     "output_type": "stream",
     "text": [
      "100%|██████████| 31/31 [00:03<00:00,  8.90it/s]\n"
     ]
    },
    {
     "name": "stdout",
     "output_type": "stream",
     "text": [
      "-- train loss 1.587 -- validation accuracy 0.526 -- validation loss: 1.429\n",
      "\n",
      " epoch 3\n"
     ]
    },
    {
     "name": "stderr",
     "output_type": "stream",
     "text": [
      "100%|██████████| 31/31 [00:03<00:00,  9.68it/s]\n"
     ]
    },
    {
     "name": "stdout",
     "output_type": "stream",
     "text": [
      "-- train loss 1.529 -- validation accuracy 0.526 -- validation loss: 1.674\n",
      "\n",
      " epoch 4\n"
     ]
    },
    {
     "name": "stderr",
     "output_type": "stream",
     "text": [
      "100%|██████████| 31/31 [00:02<00:00, 11.17it/s]\n"
     ]
    },
    {
     "name": "stdout",
     "output_type": "stream",
     "text": [
      "-- train loss 1.510 -- validation accuracy 0.526 -- validation loss: 1.794\n",
      "\n",
      " epoch 5\n"
     ]
    },
    {
     "name": "stderr",
     "output_type": "stream",
     "text": [
      "100%|██████████| 31/31 [00:02<00:00, 11.28it/s]\n"
     ]
    },
    {
     "name": "stdout",
     "output_type": "stream",
     "text": [
      "-- train loss 1.495 -- validation accuracy 0.526 -- validation loss: 1.827\n",
      "\n",
      " epoch 6\n"
     ]
    },
    {
     "name": "stderr",
     "output_type": "stream",
     "text": [
      "100%|██████████| 31/31 [00:02<00:00, 11.24it/s]\n"
     ]
    },
    {
     "name": "stdout",
     "output_type": "stream",
     "text": [
      "-- train loss 1.436 -- validation accuracy 0.526 -- validation loss: 1.674\n",
      "\n",
      " epoch 7\n"
     ]
    },
    {
     "name": "stderr",
     "output_type": "stream",
     "text": [
      "100%|██████████| 31/31 [00:02<00:00, 11.06it/s]\n"
     ]
    },
    {
     "name": "stdout",
     "output_type": "stream",
     "text": [
      "-- train loss 1.448 -- validation accuracy 0.526 -- validation loss: 1.687\n",
      "\n",
      " epoch 8\n"
     ]
    },
    {
     "name": "stderr",
     "output_type": "stream",
     "text": [
      "100%|██████████| 31/31 [00:02<00:00, 10.90it/s]\n"
     ]
    },
    {
     "name": "stdout",
     "output_type": "stream",
     "text": [
      "-- train loss 1.419 -- validation accuracy 0.526 -- validation loss: 1.553\n",
      "\n",
      " epoch 9\n"
     ]
    },
    {
     "name": "stderr",
     "output_type": "stream",
     "text": [
      "100%|██████████| 31/31 [00:02<00:00, 10.51it/s]\n"
     ]
    },
    {
     "name": "stdout",
     "output_type": "stream",
     "text": [
      "-- train loss 1.408 -- validation accuracy 0.526 -- validation loss: 1.481\n",
      "\n",
      " epoch 10\n"
     ]
    },
    {
     "name": "stderr",
     "output_type": "stream",
     "text": [
      "100%|██████████| 31/31 [00:02<00:00, 11.21it/s]\n"
     ]
    },
    {
     "name": "stdout",
     "output_type": "stream",
     "text": [
      "-- train loss 1.376 -- validation accuracy 0.518 -- validation loss: 1.414\n",
      "\n",
      " epoch 11\n"
     ]
    },
    {
     "name": "stderr",
     "output_type": "stream",
     "text": [
      "100%|██████████| 31/31 [00:02<00:00, 11.34it/s]\n"
     ]
    },
    {
     "name": "stdout",
     "output_type": "stream",
     "text": [
      "-- train loss 1.358 -- validation accuracy 0.538 -- validation loss: 1.474\n",
      "\n",
      " epoch 12\n"
     ]
    },
    {
     "name": "stderr",
     "output_type": "stream",
     "text": [
      "100%|██████████| 31/31 [00:02<00:00, 10.98it/s]\n"
     ]
    },
    {
     "name": "stdout",
     "output_type": "stream",
     "text": [
      "-- train loss 1.309 -- validation accuracy 0.555 -- validation loss: 1.668\n",
      "\n",
      " epoch 13\n"
     ]
    },
    {
     "name": "stderr",
     "output_type": "stream",
     "text": [
      "100%|██████████| 31/31 [00:02<00:00, 11.25it/s]\n"
     ]
    },
    {
     "name": "stdout",
     "output_type": "stream",
     "text": [
      "-- train loss 1.295 -- validation accuracy 0.538 -- validation loss: 1.494\n",
      "\n",
      " epoch 14\n"
     ]
    },
    {
     "name": "stderr",
     "output_type": "stream",
     "text": [
      "100%|██████████| 31/31 [00:02<00:00, 11.08it/s]\n"
     ]
    },
    {
     "name": "stdout",
     "output_type": "stream",
     "text": [
      "-- train loss 1.276 -- validation accuracy 0.543 -- validation loss: 1.419\n",
      "\n",
      " epoch 15\n"
     ]
    },
    {
     "name": "stderr",
     "output_type": "stream",
     "text": [
      "100%|██████████| 31/31 [00:02<00:00, 11.16it/s]\n"
     ]
    },
    {
     "name": "stdout",
     "output_type": "stream",
     "text": [
      "-- train loss 1.256 -- validation accuracy 0.543 -- validation loss: 1.585\n",
      "\n",
      " epoch 16\n"
     ]
    },
    {
     "name": "stderr",
     "output_type": "stream",
     "text": [
      "100%|██████████| 31/31 [00:02<00:00, 11.18it/s]\n"
     ]
    },
    {
     "name": "stdout",
     "output_type": "stream",
     "text": [
      "-- train loss 1.230 -- validation accuracy 0.543 -- validation loss: 1.431\n",
      "\n",
      " epoch 17\n"
     ]
    },
    {
     "name": "stderr",
     "output_type": "stream",
     "text": [
      "100%|██████████| 31/31 [00:02<00:00, 11.04it/s]\n"
     ]
    },
    {
     "name": "stdout",
     "output_type": "stream",
     "text": [
      "-- train loss 1.193 -- validation accuracy 0.559 -- validation loss: 1.241\n",
      "\n",
      " epoch 18\n"
     ]
    },
    {
     "name": "stderr",
     "output_type": "stream",
     "text": [
      "100%|██████████| 31/31 [00:02<00:00, 11.18it/s]\n"
     ]
    },
    {
     "name": "stdout",
     "output_type": "stream",
     "text": [
      "-- train loss 1.114 -- validation accuracy 0.619 -- validation loss: 1.061\n",
      "\n",
      " epoch 19\n"
     ]
    },
    {
     "name": "stderr",
     "output_type": "stream",
     "text": [
      "100%|██████████| 31/31 [00:02<00:00, 11.14it/s]\n"
     ]
    },
    {
     "name": "stdout",
     "output_type": "stream",
     "text": [
      "-- train loss 0.988 -- validation accuracy 0.623 -- validation loss: 1.062\n",
      "\n",
      " epoch 20\n"
     ]
    },
    {
     "name": "stderr",
     "output_type": "stream",
     "text": [
      "100%|██████████| 31/31 [00:02<00:00, 11.17it/s]\n"
     ]
    },
    {
     "name": "stdout",
     "output_type": "stream",
     "text": [
      "-- train loss 0.968 -- validation accuracy 0.656 -- validation loss: 1.069\n",
      "\n",
      " epoch 21\n"
     ]
    },
    {
     "name": "stderr",
     "output_type": "stream",
     "text": [
      "100%|██████████| 31/31 [00:02<00:00, 11.23it/s]\n"
     ]
    },
    {
     "name": "stdout",
     "output_type": "stream",
     "text": [
      "-- train loss 0.965 -- validation accuracy 0.615 -- validation loss: 0.997\n",
      "\n",
      " epoch 22\n"
     ]
    },
    {
     "name": "stderr",
     "output_type": "stream",
     "text": [
      "100%|██████████| 31/31 [00:02<00:00, 10.92it/s]\n"
     ]
    },
    {
     "name": "stdout",
     "output_type": "stream",
     "text": [
      "-- train loss 0.918 -- validation accuracy 0.664 -- validation loss: 0.986\n",
      "\n",
      " epoch 23\n"
     ]
    },
    {
     "name": "stderr",
     "output_type": "stream",
     "text": [
      "100%|██████████| 31/31 [00:02<00:00, 11.27it/s]\n"
     ]
    },
    {
     "name": "stdout",
     "output_type": "stream",
     "text": [
      "-- train loss 0.908 -- validation accuracy 0.538 -- validation loss: 1.146\n",
      "\n",
      " epoch 24\n"
     ]
    },
    {
     "name": "stderr",
     "output_type": "stream",
     "text": [
      "100%|██████████| 31/31 [00:02<00:00, 11.15it/s]\n"
     ]
    },
    {
     "name": "stdout",
     "output_type": "stream",
     "text": [
      "-- train loss 0.915 -- validation accuracy 0.636 -- validation loss: 0.987\n",
      "\n",
      " epoch 25\n"
     ]
    },
    {
     "name": "stderr",
     "output_type": "stream",
     "text": [
      "100%|██████████| 31/31 [00:02<00:00, 10.61it/s]\n"
     ]
    },
    {
     "name": "stdout",
     "output_type": "stream",
     "text": [
      "-- train loss 0.946 -- validation accuracy 0.632 -- validation loss: 0.919\n",
      "\n",
      " epoch 26\n"
     ]
    },
    {
     "name": "stderr",
     "output_type": "stream",
     "text": [
      "100%|██████████| 31/31 [00:02<00:00, 10.66it/s]\n"
     ]
    },
    {
     "name": "stdout",
     "output_type": "stream",
     "text": [
      "-- train loss 0.933 -- validation accuracy 0.664 -- validation loss: 1.124\n",
      "\n",
      " epoch 27\n"
     ]
    },
    {
     "name": "stderr",
     "output_type": "stream",
     "text": [
      "100%|██████████| 31/31 [00:02<00:00, 10.76it/s]\n"
     ]
    },
    {
     "name": "stdout",
     "output_type": "stream",
     "text": [
      "-- train loss 0.913 -- validation accuracy 0.640 -- validation loss: 0.935\n",
      "\n",
      " epoch 28\n"
     ]
    },
    {
     "name": "stderr",
     "output_type": "stream",
     "text": [
      "100%|██████████| 31/31 [00:02<00:00, 10.86it/s]\n"
     ]
    },
    {
     "name": "stdout",
     "output_type": "stream",
     "text": [
      "-- train loss 0.884 -- validation accuracy 0.583 -- validation loss: 1.041\n",
      "\n",
      " epoch 29\n"
     ]
    },
    {
     "name": "stderr",
     "output_type": "stream",
     "text": [
      "100%|██████████| 31/31 [00:02<00:00, 10.86it/s]\n"
     ]
    },
    {
     "name": "stdout",
     "output_type": "stream",
     "text": [
      "-- train loss 0.919 -- validation accuracy 0.648 -- validation loss: 0.961\n",
      "\n",
      " epoch 30\n"
     ]
    },
    {
     "name": "stderr",
     "output_type": "stream",
     "text": [
      "100%|██████████| 31/31 [00:02<00:00, 10.58it/s]\n"
     ]
    },
    {
     "name": "stdout",
     "output_type": "stream",
     "text": [
      "-- train loss 0.849 -- validation accuracy 0.644 -- validation loss: 0.979\n",
      "\n",
      " epoch 31\n"
     ]
    },
    {
     "name": "stderr",
     "output_type": "stream",
     "text": [
      "100%|██████████| 31/31 [00:02<00:00, 11.01it/s]\n"
     ]
    },
    {
     "name": "stdout",
     "output_type": "stream",
     "text": [
      "-- train loss 0.870 -- validation accuracy 0.632 -- validation loss: 0.908\n",
      "\n",
      " epoch 32\n"
     ]
    },
    {
     "name": "stderr",
     "output_type": "stream",
     "text": [
      "100%|██████████| 31/31 [00:02<00:00, 10.75it/s]\n"
     ]
    },
    {
     "name": "stdout",
     "output_type": "stream",
     "text": [
      "-- train loss 0.858 -- validation accuracy 0.648 -- validation loss: 0.895\n",
      "\n",
      " epoch 33\n"
     ]
    },
    {
     "name": "stderr",
     "output_type": "stream",
     "text": [
      "100%|██████████| 31/31 [00:02<00:00, 10.58it/s]\n"
     ]
    },
    {
     "name": "stdout",
     "output_type": "stream",
     "text": [
      "-- train loss 0.859 -- validation accuracy 0.668 -- validation loss: 1.009\n",
      "\n",
      " epoch 34\n"
     ]
    },
    {
     "name": "stderr",
     "output_type": "stream",
     "text": [
      "100%|██████████| 31/31 [00:02<00:00, 10.77it/s]\n"
     ]
    },
    {
     "name": "stdout",
     "output_type": "stream",
     "text": [
      "-- train loss 0.849 -- validation accuracy 0.644 -- validation loss: 0.937\n",
      "\n",
      " epoch 35\n"
     ]
    },
    {
     "name": "stderr",
     "output_type": "stream",
     "text": [
      "100%|██████████| 31/31 [00:02<00:00, 10.56it/s]\n"
     ]
    },
    {
     "name": "stdout",
     "output_type": "stream",
     "text": [
      "-- train loss 0.839 -- validation accuracy 0.640 -- validation loss: 0.876\n",
      "\n",
      " epoch 36\n"
     ]
    },
    {
     "name": "stderr",
     "output_type": "stream",
     "text": [
      "100%|██████████| 31/31 [00:02<00:00, 10.81it/s]\n"
     ]
    },
    {
     "name": "stdout",
     "output_type": "stream",
     "text": [
      "-- train loss 0.846 -- validation accuracy 0.648 -- validation loss: 0.849\n",
      "\n",
      " epoch 37\n"
     ]
    },
    {
     "name": "stderr",
     "output_type": "stream",
     "text": [
      "100%|██████████| 31/31 [00:02<00:00, 10.34it/s]\n"
     ]
    },
    {
     "name": "stdout",
     "output_type": "stream",
     "text": [
      "-- train loss 0.823 -- validation accuracy 0.640 -- validation loss: 0.887\n",
      "\n",
      " epoch 38\n"
     ]
    },
    {
     "name": "stderr",
     "output_type": "stream",
     "text": [
      "100%|██████████| 31/31 [00:02<00:00, 10.70it/s]\n"
     ]
    },
    {
     "name": "stdout",
     "output_type": "stream",
     "text": [
      "-- train loss 0.824 -- validation accuracy 0.684 -- validation loss: 0.882\n",
      "\n",
      " epoch 39\n"
     ]
    },
    {
     "name": "stderr",
     "output_type": "stream",
     "text": [
      "100%|██████████| 31/31 [00:02<00:00, 10.75it/s]\n"
     ]
    },
    {
     "name": "stdout",
     "output_type": "stream",
     "text": [
      "-- train loss 0.801 -- validation accuracy 0.668 -- validation loss: 0.878\n",
      "\n",
      " epoch 40\n"
     ]
    },
    {
     "name": "stderr",
     "output_type": "stream",
     "text": [
      "100%|██████████| 31/31 [00:02<00:00, 10.65it/s]\n"
     ]
    },
    {
     "name": "stdout",
     "output_type": "stream",
     "text": [
      "-- train loss 0.823 -- validation accuracy 0.668 -- validation loss: 0.911\n",
      "\n",
      " epoch 41\n"
     ]
    },
    {
     "name": "stderr",
     "output_type": "stream",
     "text": [
      "100%|██████████| 31/31 [00:02<00:00, 10.74it/s]\n"
     ]
    },
    {
     "name": "stdout",
     "output_type": "stream",
     "text": [
      "-- train loss 0.827 -- validation accuracy 0.652 -- validation loss: 0.855\n",
      "\n",
      " epoch 42\n"
     ]
    },
    {
     "name": "stderr",
     "output_type": "stream",
     "text": [
      "100%|██████████| 31/31 [00:02<00:00, 10.49it/s]\n"
     ]
    },
    {
     "name": "stdout",
     "output_type": "stream",
     "text": [
      "-- train loss 0.798 -- validation accuracy 0.672 -- validation loss: 0.876\n",
      "\n",
      " epoch 43\n"
     ]
    },
    {
     "name": "stderr",
     "output_type": "stream",
     "text": [
      "100%|██████████| 31/31 [00:02<00:00, 10.65it/s]\n"
     ]
    },
    {
     "name": "stdout",
     "output_type": "stream",
     "text": [
      "-- train loss 0.797 -- validation accuracy 0.656 -- validation loss: 1.000\n",
      "\n",
      " epoch 44\n"
     ]
    },
    {
     "name": "stderr",
     "output_type": "stream",
     "text": [
      "100%|██████████| 31/31 [00:02<00:00, 10.60it/s]\n"
     ]
    },
    {
     "name": "stdout",
     "output_type": "stream",
     "text": [
      "-- train loss 0.793 -- validation accuracy 0.668 -- validation loss: 0.871\n",
      "\n",
      " epoch 45\n"
     ]
    },
    {
     "name": "stderr",
     "output_type": "stream",
     "text": [
      "100%|██████████| 31/31 [00:02<00:00, 10.61it/s]\n"
     ]
    },
    {
     "name": "stdout",
     "output_type": "stream",
     "text": [
      "-- train loss 0.811 -- validation accuracy 0.676 -- validation loss: 0.806\n",
      "\n",
      " epoch 46\n"
     ]
    },
    {
     "name": "stderr",
     "output_type": "stream",
     "text": [
      "100%|██████████| 31/31 [00:02<00:00, 10.65it/s]\n"
     ]
    },
    {
     "name": "stdout",
     "output_type": "stream",
     "text": [
      "-- train loss 0.760 -- validation accuracy 0.680 -- validation loss: 0.831\n",
      "\n",
      " epoch 47\n"
     ]
    },
    {
     "name": "stderr",
     "output_type": "stream",
     "text": [
      "100%|██████████| 31/31 [00:02<00:00, 10.63it/s]\n"
     ]
    },
    {
     "name": "stdout",
     "output_type": "stream",
     "text": [
      "-- train loss 0.761 -- validation accuracy 0.684 -- validation loss: 0.875\n",
      "\n",
      " epoch 48\n"
     ]
    },
    {
     "name": "stderr",
     "output_type": "stream",
     "text": [
      "100%|██████████| 31/31 [00:02<00:00, 10.60it/s]\n"
     ]
    },
    {
     "name": "stdout",
     "output_type": "stream",
     "text": [
      "-- train loss 0.783 -- validation accuracy 0.676 -- validation loss: 0.855\n",
      "\n",
      " epoch 49\n"
     ]
    },
    {
     "name": "stderr",
     "output_type": "stream",
     "text": [
      "100%|██████████| 31/31 [00:02<00:00, 10.67it/s]\n"
     ]
    },
    {
     "name": "stdout",
     "output_type": "stream",
     "text": [
      "-- train loss 0.780 -- validation accuracy 0.668 -- validation loss: 0.836\n"
     ]
    }
   ],
   "source": [
    "if __name__ == \"__main__\":\n",
    "    #os.environ[\"CUDA_VISIBLE_DEVICES\"]= str(0)\n",
    "    device = torch.device('cuda' if torch.cuda.is_available() else 'cpu')  \n",
    "    print(f\"Model will run on {device}\")\n",
    "    # set_seed(seed=1) #only apply seed if you want to train each time from same position (seed in dimensions). \n",
    "    main()"
   ]
  },
  {
   "cell_type": "code",
   "execution_count": null,
   "metadata": {},
   "outputs": [],
   "source": [
    "device = torch.device(\"cuda\" if torch.cuda.is_available() else \"cpu\")\n",
    "#IF SLEEP-EDF\n",
    "#model = torch.load('model1_ViT.pth')\n",
    "\n",
    "#IF BHUTAN\n",
    "model = torch.load('model2_ViT_Bhutan.pth')\n",
    "_, _, valid_loader, _, _, _ = prepare_dataloaders(batch_size=32, dataset = Bhutan_dataset)\n",
    "\n",
    "y_pred_validation = []\n",
    "y_true_validation = []\n",
    "\n",
    "#FOR SLEEP-EDF\n",
    "# x_test, y_test = x_test.to(device), y_test.to(device)\n",
    "# with torch.no_grad():\n",
    "#     test_output, atten_matrix_list = model(x_test)\n",
    "#     test_predicted = test_output.argmax(dim = 1)\n",
    "# y_pred_validation.extend(test_predicted.cpu().numpy())\n",
    "# y_true_validation.extend(y_test.cpu().numpy())\n",
    "\n",
    "# #FOR BHUTAN\n",
    "images, labels = next(iter(valid_loader))\n",
    "images, labels = images.to(device), labels.to(device)\n",
    "with torch.no_grad():\n",
    "    test_output, atten_matrix_list = model(images)\n",
    "    test_predicted = test_output.argmax(dim = 1)\n",
    "y_pred_validation.extend(test_predicted.cpu().numpy())\n",
    "y_true_validation.extend(labels.cpu().numpy())\n",
    "\n",
    "std_val = 1 - accuracy_score(y_true_validation, y_pred_validation)\n",
    "sem_val = std_val / np.sqrt(len(y_true_validation))\n",
    "sem_p_val = (sem_val / 1) * 100\n",
    "print(accuracy_score(y_true_validation, y_pred_validation) * 100, sem_p_val)"
   ]
  },
  {
   "cell_type": "code",
   "execution_count": null,
   "metadata": {},
   "outputs": [],
   "source": [
    "from sklearn.metrics import confusion_matrix, ConfusionMatrixDisplay\n",
    "#FOR SLEEP-EDF\n",
    "# cm = confusion_matrix(y_true_validation, y_pred_validation, labels=[0,1,2,3,4], normalize='true')\n",
    "# disp = ConfusionMatrixDisplay(confusion_matrix=cm, display_labels = [\"stage W\", \"Stage 1\", \"Stage 2\", \"Stage 3/4\", \"Stage R\"])\n",
    "# disp.plot()\n",
    "# plt.show()\n",
    "\n",
    "#FOR BHUTAN\n",
    "cm = confusion_matrix(y_true_validation, y_pred_validation, labels=[0,1,2,3,4], normalize='true')\n",
    "disp = ConfusionMatrixDisplay(confusion_matrix=cm, display_labels = [\"EB\", \"EMLR\", \"EC\", \"EO\", \"JC\"])\n",
    "disp.plot()\n",
    "plt.show()"
   ]
  },
  {
   "cell_type": "code",
   "execution_count": null,
   "metadata": {},
   "outputs": [],
   "source": [
    "from sklearn.metrics import classification_report\n",
    "print(classification_report(y_true_validation, y_pred_validation, target_names=[\"EB\", \"EMLR\", \"EC\", \"EO\", \"JC\"]))"
   ]
  }
 ],
 "metadata": {
  "kernelspec": {
   "display_name": "Python 3",
   "language": "python",
   "name": "python3"
  },
  "language_info": {
   "codemirror_mode": {
    "name": "ipython",
    "version": 3
   },
   "file_extension": ".py",
   "mimetype": "text/x-python",
   "name": "python",
   "nbconvert_exporter": "python",
   "pygments_lexer": "ipython3",
   "version": "3.11.5"
  }
 },
 "nbformat": 4,
 "nbformat_minor": 2
}
